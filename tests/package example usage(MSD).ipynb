{
 "cells": [
  {
   "attachments": {},
   "cell_type": "markdown",
   "metadata": {},
   "source": [
    "# Package Usage Example"
   ]
  },
  {
   "cell_type": "code",
   "execution_count": null,
   "metadata": {},
   "outputs": [],
   "source": [
    "import pandas as pd\n",
    "import numpy as np\n",
    "import matplotlib.pyplot as plt\n",
    "import time\n",
    "from tqdm import tqdm\n",
    "from sklearn.metrics import mean_squared_error\n",
    "from sklearn.model_selection import train_test_split\n",
    "from sklearn.linear_model import Ridge\n",
    "from sklearn import preprocessing\n",
    "from sklearn.model_selection import cross_val_score\n",
    "from sklearn.utils import resample\n",
    "\n",
    "import torch\n",
    "from torch.utils.data import Dataset,DataLoader\n",
    "from torch import optim\n",
    "import torch.nn as nn\n",
    "import torch.nn.functional as F\n",
    "\n",
    "from Multi-Layer-Kernel-Machine.Mydataset import mydataset\n",
    "from Multi-Layer-Kernel-Machine.RandomFeature import RandomFourierFeature\n",
    "from Multi-Layer-Kernel-Machine.Fitting import MultilayerFitting\n",
    "from Multi-Layer-Kernel-Machine.Structure import Net,ResNet,KernelNet,ResKernelNet\n",
    "from Multi-Layer-Kernel-Machine.DataSplitting import DataSplitting\n",
    "from Multi-Layer-Kernel-Machine.GenerateSplit import GenerateSplit"
   ]
  },
  {
   "cell_type": "code",
   "execution_count": null,
   "metadata": {},
   "outputs": [],
   "source": [
    "##### example\n",
    "df=pd.read_csv('YearPredictionMSD.txt',header=None,sep = ',')\n",
    "#smaller dataset\n",
    "train=df.iloc[300000:300700] \n",
    "test=df.iloc[500000:500300] \n",
    "train_y = train[0]\n",
    "test_y = test[0] #response:year\n",
    "train_x = train\n",
    "test_x = test\n",
    "del train_x[0]\n",
    "del test_x[0]\n",
    "total_x=pd.concat([train_x,test_x])\n",
    "x=preprocessing.StandardScaler().fit(total_x).transform(total_x) #normalize\n",
    "x=pd.DataFrame(x)\n",
    "train_x=x.iloc[:700]\n",
    "test_x=x.iloc[700:]\n",
    "\n",
    "train_x.reset_index(drop=True, inplace=True) \n",
    "test_x.reset_index(drop=True, inplace=True) \n",
    "train_y.reset_index(drop=True, inplace=True) \n",
    "test_y.reset_index(drop=True, inplace=True) \n",
    "\n",
    "train_x ##display the data"
   ]
  },
  {
   "cell_type": "code",
   "execution_count": null,
   "metadata": {},
   "outputs": [],
   "source": [
    "##### data\n",
    "nntrain_x = torch.from_numpy(train_x.to_numpy()).float()\n",
    "nntrain_y = torch.squeeze(torch.from_numpy(train_y.to_numpy()).float()) \n",
    "nntest_x= torch.from_numpy(test_x.to_numpy()).float()\n",
    "nntest_y = torch.squeeze(torch.from_numpy(test_y.to_numpy()).float())\n",
    "    \n",
    "    \n",
    "batch=100\n",
    "train_loader = DataLoader(mydataset(nntrain_x, nntrain_y),batch_size=batch, shuffle=True)\n",
    "test_loader = DataLoader(mydataset(nntest_x, nntest_y),batch_size=batch, shuffle=False)"
   ]
  },
  {
   "cell_type": "markdown",
   "metadata": {},
   "source": [
    "## Multilayer Structure"
   ]
  },
  {
   "cell_type": "code",
   "execution_count": null,
   "metadata": {},
   "outputs": [],
   "source": [
    "##### DNN example\n",
    "def init_weights(m):\n",
    "    if type(m) == nn.Conv2d:\n",
    "        torch.nn.init.normal_(m.weight,mean=0,std=0.5)\n",
    "    if type(m) == nn.Linear:\n",
    "        torch.nn.init.uniform_(m.weight,a=0,b=0.1)\n",
    "        m.bias.data.fill_(0.01)  \n",
    "device = torch.device(\"cuda\" if torch.cuda.is_available() else \"cpu\")\n",
    "net = Net([90,32,8,1],device) \n",
    "print(net)\n",
    "torch.manual_seed(0)\n",
    "net.apply(init_weights)\n",
    "criterion=nn.MSELoss() \n",
    "optimizer=optim.SGD(net.parameters(),lr=1e-6,momentum=0.9,weight_decay=1e-2) #optim.Adam(...)\n",
    "mlmodel=MultilayerFitting(net,device,train_loader, test_loader, 2000, criterion, optimizer,100,100)\n",
    "dnn_trainloss,dnn_testloss,dnn_bootbase=mlmodel.fitting(train_x,train_y,test_x,test_y, batch)\n",
    "#mlmodel.Bootstrap(40,dnn_bootbase,train_x,train_y,test_x,test_y, batch,init_weights)"
   ]
  },
  {
   "cell_type": "code",
   "execution_count": null,
   "metadata": {},
   "outputs": [],
   "source": [
    "##### ResNet example\n",
    "def init_weights(m):\n",
    "    if type(m) == nn.Conv2d:\n",
    "        torch.nn.init.normal_(m.weight,mean=0,std=0.5)\n",
    "    if type(m) == nn.Linear:\n",
    "        torch.nn.init.uniform_(m.weight,a=0,b=0.1)\n",
    "        m.bias.data.fill_(0.01)\n",
    "\n",
    "device = torch.device(\"cuda\" if torch.cuda.is_available() else \"cpu\")\n",
    "net = ResNet([90,32,8,1],device)\n",
    "print(net)\n",
    "torch.manual_seed(0)\n",
    "net.apply(init_weights)\n",
    "criterion=nn.MSELoss() \n",
    "optimizer=optim.SGD(net.parameters(),lr=1e-7,momentum=0.9,weight_decay=1e-2)\n",
    "mlmodel=MultilayerFitting(net,device,train_loader, test_loader, 4000, criterion, optimizer,100,100)\n",
    "res_trainloss,res_testloss,res_bootbase=mlmodel.fitting(train_x,train_y,test_x,test_y, batch)\n",
    "#mlmodel.Bootstrap(40,res_bootbase,train_x,train_y,test_x,test_y, batch,init_weights)"
   ]
  },
  {
   "cell_type": "code",
   "execution_count": null,
   "metadata": {},
   "outputs": [],
   "source": [
    "##### MLK example\n",
    "def init_weights(m):\n",
    "    if type(m) == nn.Conv2d:\n",
    "        torch.nn.init.normal_(m.weight,mean=0,std=0.5)\n",
    "    if type(m) == nn.Linear:\n",
    "        torch.nn.init.uniform_(m.weight,a=0,b=1)\n",
    "        m.bias.data.fill_(0.01)\n",
    "        \n",
    "device = torch.device(\"cuda\" if torch.cuda.is_available() else \"cpu\")\n",
    "net = KernelNet([90,32,8,1],[\"C\",\"G\"],[0.01,0.1],device)\n",
    "print(net)\n",
    "torch.manual_seed(1)\n",
    "net.apply(init_weights)\n",
    "criterion=nn.MSELoss() \n",
    "optimizer=optim.SGD(net.parameters(),lr=1e-3,momentum=0.9,weight_decay=1e-4) #optim.Adam(...)\n",
    "mlmodel=MultilayerFitting(net,device,train_loader, test_loader, 2000, criterion, optimizer,100,100)\n",
    "kernelnn_trainloss,kernelnn_testloss,kernelnn_bootbase=mlmodel.fitting(train_x,train_y,test_x,test_y, batch)\n",
    "#mlmodel.Bootstrap(40,kernelnn_bootbase,train_x,train_y,test_x,test_y, batch,init_weights)"
   ]
  },
  {
   "cell_type": "code",
   "execution_count": null,
   "metadata": {},
   "outputs": [],
   "source": [
    "### RK example\n",
    "def init_weights(m):\n",
    "    if type(m) == nn.Conv2d:\n",
    "        torch.nn.init.normal_(m.weight,mean=0,std=0.5)\n",
    "    if type(m) == nn.Linear:\n",
    "        torch.nn.init.uniform_(m.weight,a=0,b=1)\n",
    "        m.bias.data.fill_(0.01)\n",
    "\n",
    "device = torch.device(\"cuda\" if torch.cuda.is_available() else \"cpu\")\n",
    "net = ResKernelNet([90,32,8,1],[\"C\",\"G\"],[0.01,0.1],device)\n",
    "print(net)\n",
    "torch.manual_seed(1)\n",
    "net.apply(init_weights)\n",
    "criterion=nn.MSELoss() \n",
    "criterion=nn.MSELoss() \n",
    "optimizer=optim.SGD(net.parameters(),lr=1e-6,momentum=0.9,weight_decay=1e-2) #optim.Adam(...)\n",
    "mlmodel=MultilayerFitting(net,device,train_loader, test_loader, 2000, criterion, optimizer,100,100)\n",
    "reskernel_trainloss,reskernel_testloss,reskernel_bootbase=mlmodel.fitting(train_x,train_y,test_x,test_y, batch)\n",
    "#mlmodel.Bootstrap(40,reskernel_bootbase,train_x,train_y,test_x,test_y, batch,init_weights)"
   ]
  },
  {
   "cell_type": "code",
   "execution_count": null,
   "metadata": {},
   "outputs": [],
   "source": [
    "### single layer example\n",
    "model =Ridge(alpha=1)\n",
    "score=[]\n",
    "trainmse=[]\n",
    "testmse=[]\n",
    "gaset=np.linspace(0,0.3,10)\n",
    "for ga in gaset:\n",
    "    rff=RandomFourierFeature(90,100,kernel='G',gamma=ga,device=\"cpu\")\n",
    "    train_xtransformed=rff.transform(nntrain_x)\n",
    "    test_xtransformed=rff.transform(nntest_x)\n",
    "    model.fit(train_xtransformed, nntrain_y)\n",
    "    y_pretest=model.predict(test_xtransformed)\n",
    "    y_pretrain=model.predict(train_xtransformed)\n",
    "    score.append(cross_val_score(model,train_xtransformed,train_y,cv=5).mean())   ##cross-validation\n",
    "    trainmse.append(mean_squared_error(y_pretrain,train_y))\n",
    "    testmse.append(mean_squared_error(y_pretest,test_y))\n",
    "ind=score.index(max(score))\n",
    "print(\"cv-score,index,gamma,trainmse,testmse\",max(score),ind,gaset[ind],trainmse[ind],testmse[ind])"
   ]
  },
  {
   "cell_type": "markdown",
   "metadata": {},
   "source": [
    "estimation"
   ]
  },
  {
   "cell_type": "code",
   "execution_count": null,
   "metadata": {},
   "outputs": [],
   "source": [
    "##### MLK interval example\n",
    "def init_weights(m):\n",
    "    if type(m) == nn.Conv2d:\n",
    "        torch.nn.init.normal_(m.weight,mean=0,std=0.5)\n",
    "    if type(m) == nn.Linear:\n",
    "        torch.nn.init.uniform_(m.weight,a=0,b=1)\n",
    "        m.bias.data.fill_(0.01)\n",
    "        \n",
    "device = torch.device(\"cuda\" if torch.cuda.is_available() else \"cpu\")\n",
    "net = KernelNet([90,32,8,1],[\"C\",\"G\"],[0.01,0.1],device)\n",
    "print(net)\n",
    "torch.manual_seed(1)\n",
    "net.apply(init_weights)\n",
    "criterion=nn.MSELoss() \n",
    "optimizer=optim.SGD(net.parameters(),lr=1e-3,momentum=0.9,weight_decay=1e-4) #optim.Adam(...)\n",
    "mlmodel=MultilayerFitting(net,device,train_loader, test_loader, 2000, criterion, optimizer,100,100,printchoice=False)\n",
    "kernelnn_trainloss,kernelnn_testloss,kernelnn_bootbase=mlmodel.fitting(train_x,train_y,test_x,test_y, batch)\n",
    "\n",
    "mlmodel.GradientBand(kernelnn_trainloss,train_x,train_y,test_x,test_y, batch)\n",
    "mlmodel.HomoConformalBand(train_x,train_y,test_x,test_y, batch)\n",
    "mlmodel.HeteConformalBand(kernelnn_trainloss,train_x,train_y,test_x,test_y, batch)"
   ]
  },
  {
   "attachments": {},
   "cell_type": "markdown",
   "metadata": {},
   "source": [
    "comparison"
   ]
  },
  {
   "cell_type": "code",
   "execution_count": null,
   "metadata": {},
   "outputs": [],
   "source": [
    "def plot_choose(fig,start,data):\n",
    "    fig.plot(np.arange(start,len(data)),data[start:])"
   ]
  },
  {
   "cell_type": "code",
   "execution_count": null,
   "metadata": {},
   "outputs": [],
   "source": [
    "fig, ax = plt.subplots(1, 2, figsize=(10, 4))\n",
    "plot_choose(ax[0],100,dnn_testloss)\n",
    "plot_choose(ax[0],100,kernelnn_testloss)\n",
    "ax[0].legend([\"DNN\",\"Multi_Kernel\"])\n",
    "ax[0].set_xlabel(\"epoch\")\n",
    "ax[0].set_ylabel(\"Test MSE\")\n",
    "ax[0].set_title(\"Test MSE with different structure\")\n",
    "\n",
    "plot_choose(ax[1],100,res_testloss)\n",
    "plot_choose(ax[1],100,reskernel_testloss)\n",
    "ax[1].legend([\"Resnet\",\"Residual_Multi_Kernel\"])\n",
    "ax[1].set_xlabel(\"epoch\")\n",
    "ax[1].set_ylabel(\"Test MSE\")\n",
    "ax[1].set_title(\"Test MSE with different structure\")\n",
    "\n",
    "plt.show()"
   ]
  },
  {
   "attachments": {},
   "cell_type": "markdown",
   "metadata": {},
   "source": [
    "## data splitting"
   ]
  },
  {
   "cell_type": "code",
   "execution_count": null,
   "metadata": {},
   "outputs": [],
   "source": [
    "def init_weights(m):\n",
    "    if type(m) == nn.Conv2d:\n",
    "        torch.nn.init.normal_(m.weight,mean=0,std=0.5)\n",
    "    if type(m) == nn.Linear:\n",
    "        torch.nn.init.uniform_(m.weight,a=0,b=1)\n",
    "        m.bias.data.fill_(0.01)\n",
    "device = torch.device(\"cuda\" if torch.cuda.is_available() else \"cpu\")\n",
    "net = KernelNet([90,32,8,1],[\"C\",\"G\"],[0.01,0.1],device)\n",
    "train_loaderset,netset,optimizerset=GenerateSplit(2,device,net,8e-4,0.9,1e-4,\n",
    "                                                                       train_x,train_y, batch,init_weights)\n",
    "criterion=nn.MSELoss()  \n",
    "split=2  \n",
    "splkermodel=DataSplitting(split,netset,device,train_loaderset, test_loader, 2000, criterion, optimizerset,100,100,printchoice=True)\n",
    "splker_trainloss,splker_testloss,splker_prediction=splkermodel.fitting(train_x,train_y,test_x,test_y, batch)"
   ]
  },
  {
   "cell_type": "code",
   "execution_count": null,
   "metadata": {},
   "outputs": [],
   "source": [
    "splkermodel.GradientBand(splker_trainloss,train_x,train_y,test_x,test_y, batch)"
   ]
  },
  {
   "cell_type": "code",
   "execution_count": null,
   "metadata": {},
   "outputs": [],
   "source": [
    "def init_weights(m):\n",
    "    if type(m) == nn.Conv2d:\n",
    "        torch.nn.init.normal_(m.weight,mean=0,std=0.5)\n",
    "    if type(m) == nn.Linear:\n",
    "        torch.nn.init.uniform_(m.weight,a=0,b=1)\n",
    "        m.bias.data.fill_(0.01)\n",
    "device = torch.device(\"cuda\" if torch.cuda.is_available() else \"cpu\")\n",
    "net = ResKernelNet([90,32,8,1],[\"C\",\"G\"],[0.01,0.1],device)\n",
    "train_loaderset,netset,optimizerset=GenerateSplit(2,device,net,1e-6,0.9,1e-4,\n",
    "                                                                       train_x,train_y, batch,init_weights)\n",
    "criterion=nn.MSELoss()    \n",
    "split=2 \n",
    "splresmodel=DataSplitting(split,netset,device,train_loaderset, test_loader, 2000, criterion, optimizerset,100,100,printchoice=True)\n",
    "splres_trainloss,splres_testloss,splres_prediction=splresmodel.fitting(train_x,train_y,test_x,test_y, batch)"
   ]
  },
  {
   "cell_type": "code",
   "execution_count": null,
   "metadata": {},
   "outputs": [],
   "source": [
    "splresmodel.GradientBand(splres_trainloss,train_x,train_y,test_x,test_y, batch)"
   ]
  },
  {
   "cell_type": "code",
   "execution_count": null,
   "metadata": {},
   "outputs": [],
   "source": [
    "fig, ax = plt.subplots(1, 2, figsize=(12, 4))\n",
    "plot_choose(ax[0],200,dnn_testloss)\n",
    "plot_choose(ax[0],200,res_testloss)\n",
    "plot_choose(ax[0],200,kernelnn_testloss)\n",
    "plot_choose(ax[0],200,reskernel_testloss)\n",
    "ax[0].legend([\"DNN\",\"ResNet\",\"MLKM\",\"RKM\"],fontsize=\"x-large\")\n",
    "ax[0].set_xlabel(\"epoch\",fontsize=\"xx-large\")\n",
    "ax[0].set_ylabel(\"Test MSE\",fontsize=\"xx-large\")\n",
    "\n",
    "plot_choose(ax[1],200,dnn_trainloss)\n",
    "plot_choose(ax[1],200,res_trainloss)\n",
    "plot_choose(ax[1],200,kernelnn_trainloss)\n",
    "plot_choose(ax[1],200,reskernel_trainloss)\n",
    "ax[1].legend([\"DNN\",\"ResNet\",\"MLKM\",\"RKM\"],fontsize=\"x-large\")\n",
    "ax[1].set_xlabel(\"epoch\",fontsize=\"xx-large\")\n",
    "ax[1].set_ylabel(\"Train MSE\",fontsize=\"xx-large\")\n",
    "plt.show()"
   ]
  }
 ],
 "metadata": {
  "kernelspec": {
   "display_name": "pytorch",
   "language": "python",
   "name": "python3"
  },
  "language_info": {
   "codemirror_mode": {
    "name": "ipython",
    "version": 3
   },
   "file_extension": ".py",
   "mimetype": "text/x-python",
   "name": "python",
   "nbconvert_exporter": "python",
   "pygments_lexer": "ipython3",
   "version": "3.9.16"
  },
  "orig_nbformat": 4
 },
 "nbformat": 4,
 "nbformat_minor": 2
}
